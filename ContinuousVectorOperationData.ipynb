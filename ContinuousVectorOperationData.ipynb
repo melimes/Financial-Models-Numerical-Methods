{
  "nbformat": 4,
  "nbformat_minor": 0,
  "metadata": {
    "colab": {
      "provenance": [],
      "include_colab_link": true
    },
    "kernelspec": {
      "name": "python3",
      "display_name": "Python 3"
    },
    "language_info": {
      "name": "python"
    }
  },
  "cells": [
    {
      "cell_type": "markdown",
      "metadata": {
        "id": "view-in-github",
        "colab_type": "text"
      },
      "source": [
        "<a href=\"https://colab.research.google.com/github/semilem/Financial-Models-Numerical-Methods/blob/master/ContinuousVectorOperationData.ipynb\" target=\"_parent\"><img src=\"https://colab.research.google.com/assets/colab-badge.svg\" alt=\"Open In Colab\"/></a>"
      ]
    },
    {
      "cell_type": "code",
      "execution_count": null,
      "metadata": {
        "id": "gX9jfIDOSGUa"
      },
      "outputs": [],
      "source": [
        "import numpy as np\n",
        "import matplotlib.pyplot as plt\n",
        "from math import pi\n",
        "from scipy.signal import hilbert, butter, filtfilt, periodogram\n",
        "from scipy.fft import fft, fftfreq,fftshift , ifft\n",
        "import time\n",
        "from scipy.stats import sem\n",
        "\n",
        "from numba import jit"
      ]
    },
    {
      "cell_type": "code",
      "source": [
        "rng = np.random.default_rng()\n",
        "rng.normal(size = 100)\n"
      ],
      "metadata": {
        "colab": {
          "base_uri": "https://localhost:8080/"
        },
        "id": "JNVi1gp7tBLQ",
        "outputId": "7807c0de-3647-4265-cebb-2645da5706c7"
      },
      "execution_count": null,
      "outputs": [
        {
          "output_type": "execute_result",
          "data": {
            "text/plain": [
              "array([-1.49675025,  1.05789658,  2.26875814,  0.72334659, -0.4993797 ,\n",
              "       -2.44281295,  0.78175763,  0.10234392, -0.02582129, -0.08214802,\n",
              "        2.08776631,  0.70736928,  0.94898291,  1.5240717 ,  0.73589238,\n",
              "       -1.055268  ,  1.58890654, -0.44807176,  0.52976245, -0.75959285,\n",
              "       -0.1043912 ,  1.29545564, -0.20361571, -1.58302389, -0.78338034,\n",
              "        0.93262569,  0.09887249,  1.04249001,  0.07088412,  0.05631158,\n",
              "       -0.61535874,  0.16556766, -1.24422003, -0.14523266, -1.05254747,\n",
              "       -0.66157252, -1.75443724, -1.18225216,  0.75808141, -1.47007556,\n",
              "        1.08399631, -0.35208371,  1.11558471,  0.54120728,  0.0800823 ,\n",
              "        2.37213984, -1.10346391,  1.46855584, -0.28571561,  0.07544457,\n",
              "       -0.6134313 ,  0.14713999,  1.2001822 , -0.58041172,  0.70505481,\n",
              "        0.69041479,  1.19229233,  0.05340648,  1.37443384,  0.17165947,\n",
              "        1.78213411,  0.07067196, -1.52686783, -1.05704411,  0.220731  ,\n",
              "        0.28669879,  0.52595889, -0.70284483, -1.96432972, -0.50269151,\n",
              "        0.70247244, -0.12031642,  2.15554432, -0.61722266,  0.08611743,\n",
              "       -0.28611121,  1.71674167,  0.06821847, -0.40799646,  0.21887476,\n",
              "        0.0660927 , -0.05970996,  0.16803233,  1.85264121,  0.09475372,\n",
              "        0.01435258,  0.98158732,  0.77119646, -1.77558511,  0.93552648,\n",
              "        0.54964332, -0.75195469, -1.16241578, -0.31811594,  1.98004414,\n",
              "       -0.02329217,  0.43872021,  0.29500741, -0.23652062,  0.09654255])"
            ]
          },
          "metadata": {},
          "execution_count": 3
        }
      ]
    },
    {
      "cell_type": "code",
      "source": [
        "fr = 2500 #Repetition rate Hz\n",
        "fs = 5e6  #Digitizer rate Hz\n",
        "rng = np.random.default_rng()\n",
        "gRb = 2*np.pi*7e9 #Hz/T Rb gyromagnetic ratio\n",
        "Bz = 50e-6 #T Bias field\n",
        "rho = 1000e-9  # V/rtHz #Voltage noise\n",
        "noise_power = (rho)**2 * fs / 2  #T^2/Hz\n",
        "shots = 50  #Number of shots to generate\n",
        "t_pump = 100e-6 #s Pump time\n",
        "pts_pump = int( t_pump*fs)\n",
        "t_tot = shots/fr\n",
        "pts_per_rep = int(fs/fr)\n",
        "print(f\"{t_tot} is time simulated,\")\n",
        "pts_tot = int(fs*t_tot)\n",
        "t = np.linspace(0, t_tot - 1/fs, int(fs*t_tot))\n",
        "print(f\"from time 0 to {max(t)} s\")\n",
        "wm = 2*np.pi*(2*fr) #mod frequency\n",
        "Br = 5e-6 #T mod field\n",
        "T2 = 0.5e-3 #s Decay time\n",
        "\n",
        "freq = 750 #Hz\n",
        "w0 = gRb*np.sqrt((Bz+wm/gRb)**2 +(Br)**2)\n",
        "phi_x = np.pi/2\n",
        "phi_y = np.pi/2\n",
        "w_x = 2*np.pi*freq\n",
        "w_y = w_x #\n",
        "Bx = 0 #T\n",
        "By = 0\n",
        "phi = (gRb*gRb*(Bx*Br)/(w0*(wm**2-w_x**2)))*(wm*np.cos(w_x*t+phi_x)*np.sin(wm*t) - w_x*np.sin(w_x*t+phi_x)*np.cos(wm*t))\n",
        "phi +=(gRb*gRb*(By*Br)/(w0*(wm**2-w_y**2)))*(-wm*np.cos(w_y*t+phi_y)*np.cos(wm*t) - w_y*np.sin(w_y*t+phi_y)*np.sin(wm*t))\n",
        "bx = 0\n",
        "by = 0 #T\n",
        "phi += (gRb*gRb*Br/(w0*wm))*(bx*np.sin(wm*t)- by*(np.cos(wm*t)))#+np.pi/2\n",
        "sig = ((w0+gRb*Bz+wm)/(2*w0))*np.sin((w0-wm)*t + phi)\n",
        "sig += -((w0-gRb*Bz-wm)/(2*w0))*np.sin((w0+wm)*t + phi)\n",
        "sig += rng.normal(scale=np.sqrt(noise_power), size=t.shape[0])\n",
        "#w0 = gRb*Bz\n",
        "#sig = np.sin(w0*t) #need to replace with signal\n",
        "\n",
        "t_obs = 1/fr - t_pump\n",
        "pts_obs = int(t_obs*fs)\n",
        "A0 = 1\n",
        "A1 = 0.9*A0\n",
        "print(f'observe Rb decay for {t_obs} s, with {T2} time constant decay')\n",
        "print(f'Thus amplitude decays by exp(-{t_obs/T2}) = {np.exp(-t_obs/T2)},')\n",
        "Ad= A1*np.exp(-t_obs/T2)\n",
        "print(Ad)\n",
        "Tp = t_pump/(np.log((A0-Ad)/(A0-A1)))\n",
        "print(f'And the pump constant Tp of A = A0(1-exp(-t_pump/Tp) is {Tp} s')\n",
        "wfs = np.reshape(sig, (shots, pts_per_rep)) #[[shot1], [shot2]...]\n",
        "time_pump = np.linspace(0, t_pump - 1/fs, pts_pump)\n",
        "time_dec =np.linspace(0, t_obs - 1/fs, pts_obs)\n",
        "tau = Tp*np.log(1-Ad/A0)\n",
        "pumpFun = np.array((1-np.exp(-(time_pump-tau)/(Tp))))\n",
        "decayFun = np.array(np.exp(-time_dec/T2))\n",
        "wfs= np.hstack(( A1*wfs[:,pts_pump:]*decayFun, wfs[:,0:pts_pump]*pumpFun)) #[[shot1], [shot2]...]* (decay  and pump fn, element-wise mult down columns)\n",
        "sig = np.ravel(wfs)\n",
        "plt.plot(t[0:2*pts_per_rep], sig[0:2*pts_per_rep])\n",
        "plt.ylabel('Sig (V)')\n",
        "plt.xlabel('Time (s)')\n",
        "plt.show()\n",
        "Fsig = 2*fft(2*np.sqrt(2)*np.blackman(pts_obs)*sig[0:pts_obs])/(np.sqrt(2*fs*pts_obs))\n",
        "w_2pi = fftfreq(int(pts_obs), 1/fs)\n",
        "\n",
        "plt.semilogy(fftshift(w_2pi), fftshift(abs(Fsig)))\n",
        "plt.show()"
      ],
      "metadata": {
        "colab": {
          "base_uri": "https://localhost:8080/",
          "height": 984
        },
        "id": "QFQaqwZeSJta",
        "outputId": "433d7c92-9715-4929-c77d-b4e07035d887"
      },
      "execution_count": null,
      "outputs": [
        {
          "output_type": "stream",
          "name": "stdout",
          "text": [
            "0.02 is time simulated,\n",
            "from time 0 to 0.0199998 s\n",
            "observe Rb decay for 0.00030000000000000003 s, with 0.0005 time constant decay\n",
            "Thus amplitude decays by exp(-0.6000000000000001) = 0.5488116360940264,\n",
            "0.49393047248462374\n",
            "And the pump constant Tp of A = A0(1-exp(-t_pump/Tp) is 6.167114444336624e-05 s\n"
          ]
        },
        {
          "output_type": "display_data",
          "data": {
            "text/plain": [
              "<Figure size 640x480 with 1 Axes>"
            ],
            "image/png": "[encoded data removed]"
          },
          "metadata": {}
        },
        {
          "output_type": "display_data",
          "data": {
            "text/plain": [
              "<Figure size 640x480 with 1 Axes>"
            ],
            "image/png": "[encoded data removed]"
          },
          "metadata": {}
        }
      ]
    },
    {
      "cell_type": "markdown",
      "source": [
        "Need to make a stepwise continuous vector data function with pumping to make hilbert behave normally, to test whether my frequency domain rotation works.\n",
        "\n",
        "Can make a simple data simulator by making a sine wave amplitude modulated like a charging and discharging capacitor with different rates.\n",
        "\n",
        "Amplitude at the end of the decay period $t_d$ can be given by $A_d = A_1 e^{-t_d/T_2}$. Can assume a 90% initial p0larization such that $A_1=0.9A_0$, where $A_0 = 1$ can be considered max polarization.\n",
        "\n",
        "Then, the charging equation can be described as $A(t) = A_0(1-e^{-(t - \\tau)/T_p})$.\n",
        "\n",
        "$A(0) = A_d = A_0(1-e^{\\tau/T_p}) \\implies \\tau = T_p \\ln(1-A_d/A_0)$\n",
        "\n",
        "With $t_p$ pump time\n",
        "$A(t_p) = A_1 = A_0(1-(1-A_d/A_0) )e^{-t_p/Tp} \\implies T_p = t_p/(\\ln(A_0 - A_d)/(A_0-A_1))$\n"
      ],
      "metadata": {
        "id": "IajrLhiMSiQ4"
      }
    },
    {
      "cell_type": "code",
      "source": [
        "analytical = hilbert(sig)\n",
        "phase= np.unwrap(np.angle(analytical))\n",
        "\n",
        "X_matPhase = np.vstack((np.ones(len(time_dec)),time_dec )).T\n",
        "InvXTXXTPhase = np.linalg.inv(X_matPhase.T.dot(X_matPhase)).dot(X_matPhase.T)\n",
        "print(f'the size of InvXTXXTPhase is {InvXTXXTPhase.shape}')\n",
        "phases = np.reshape(phase, (shots, pts_per_rep))[:,0:pts_obs]\n",
        "\n",
        "print(f'the size of phases is {phases.shape}')\n",
        "beta = (InvXTXXTPhase@phases.T).T\n",
        "\n",
        "\n",
        "wo = beta[:,1] + wm#*((w0+gRb*Bz+wm)/(2*w0))+((w0-gRb*Bz-wm)/(2*w0))*wm\n",
        "\n",
        "plt.plot(wo/gRb*1e9)\n",
        "print(f'The field gRb*np.sqrt((Bz+wm/gRb)**2 +(Br)**2) {w0/gRb*1e9} nT')\n",
        "print(f'The mean of the measured w0 are {np.mean(wo)/gRb*1e9}+-{sem(wo)/gRb*1e9} nT')"
      ],
      "metadata": {
        "id": "J3pRO_e7Sn6T",
        "colab": {
          "base_uri": "https://localhost:8080/",
          "height": 338
        },
        "outputId": "4b5bf25b-bc43-4700-d03e-4b1d470f6b63"
      },
      "execution_count": null,
      "outputs": [
        {
          "output_type": "stream",
          "name": "stdout",
          "text": [
            "the size of InvXTXXTPhase is (2, 1500)\n",
            "the size of phases is (50, 1500)\n",
            "The field gRb*np.sqrt((Bz+wm/gRb)**2 +(Br)**2) 50960.16851924847 nT\n",
            "The mean of the measured w0 are 50960.24683145357+-0.09076962237147049 nT\n"
          ]
        },
        {
          "output_type": "display_data",
          "data": {
            "text/plain": [
              "<Figure size 432x288 with 1 Axes>"
            ],
            "image/png": "[encoded data removed]"
          },
          "metadata": {
            "needs_background": "light"
          }
        }
      ]
    },
    {
      "cell_type": "code",
      "source": [
        "Sz = np.matrix([[1/2, 0], [0, -1/2]])\n",
        "Iz = np.matrix([[1/2, 0], [0, -1/2]])\n",
        "IzSz = np.kron(Iz, Sz)\n",
        "print(IzSz)\n",
        "Sx = np.matrix([[0, 1/2], [1/2, 0]])\n",
        "Ix = np.matrix([[0, 1/2], [1/2, 0]])\n",
        "IxSx = np.kron(Ix, Sx)\n",
        "print(IxSx)\n",
        "Sy = np.matrix([[0, -1j/2], [1j/2, 0]])\n",
        "Iy = np.matrix([[0, -1j/2], [1j/2, 0]])\n",
        "IySy = np.kron(Iy, Sy)\n",
        "print(IySy)\n"
      ],
      "metadata": {
        "id": "QZDmdozWIz2p",
        "colab": {
          "base_uri": "https://localhost:8080/"
        },
        "outputId": "093bbced-f401-468d-aa47-e6b1d75e84c2"
      },
      "execution_count": null,
      "outputs": [
        {
          "output_type": "stream",
          "name": "stdout",
          "text": [
            "[[ 0.25  0.    0.    0.  ]\n",
            " [ 0.   -0.25  0.   -0.  ]\n",
            " [ 0.    0.   -0.25 -0.  ]\n",
            " [ 0.   -0.   -0.    0.25]]\n",
            "[[0.   0.   0.   0.25]\n",
            " [0.   0.   0.25 0.  ]\n",
            " [0.   0.25 0.   0.  ]\n",
            " [0.25 0.   0.   0.  ]]\n",
            "[[ 0.  +0.j  0.  -0.j  0.  -0.j -0.25+0.j]\n",
            " [ 0.  +0.j  0.  +0.j  0.25-0.j  0.  -0.j]\n",
            " [ 0.  +0.j  0.25-0.j  0.  +0.j  0.  -0.j]\n",
            " [-0.25+0.j  0.  +0.j  0.  +0.j  0.  +0.j]]\n"
          ]
        }
      ]
    },
    {
      "cell_type": "code",
      "source": [
        "Sz = np.matrix([[1/2, 0], [0, -1/2]])\n",
        "Iz = np.matrix([[1/2, 0], [0, -1/2]])\n",
        "Sz_1 = np.kron(np.eye(2), Sz)\n",
        "Iz_1 = np.kron(Iz, np.eye(2))\n",
        "Sx_1 = np.kron(np.eye(2), Sx)\n",
        "Ix_1 = np.kron(Ix, np.eye(2))\n",
        "Sy_1 = np.kron(np.eye(2), Sy)\n",
        "Iy_1 = np.kron(Iy, np.eye(2))\n",
        "print(Iy_1*Sy_1)\n"
      ],
      "metadata": {
        "colab": {
          "base_uri": "https://localhost:8080/"
        },
        "id": "FXOAOb-QZCBF",
        "outputId": "beb1ef7a-08c1-4b3c-e852-ab3c813c9af8"
      },
      "execution_count": null,
      "outputs": [
        {
          "output_type": "stream",
          "name": "stdout",
          "text": [
            "[[ 0.  +0.j  0.  +0.j  0.  +0.j -0.25+0.j]\n",
            " [ 0.  +0.j  0.  +0.j  0.25+0.j  0.  +0.j]\n",
            " [ 0.  +0.j  0.25+0.j  0.  +0.j  0.  +0.j]\n",
            " [-0.25+0.j  0.  +0.j  0.  +0.j  0.  +0.j]]\n"
          ]
        }
      ]
    },
    {
      "cell_type": "markdown",
      "source": [
        "Look at $I\\cdot S = I_x S_x + I_y S_y +I_z S_z $"
      ],
      "metadata": {
        "id": "ku964avOX520"
      }
    },
    {
      "cell_type": "code",
      "source": [
        "IS = IxSx+IySy+IzSz\n",
        "eigenvalues, eigenvectors =np.linalg.eig(IS)\n",
        "print(eigenvalues)\n",
        "print(eigenvectors)"
      ],
      "metadata": {
        "colab": {
          "base_uri": "https://localhost:8080/"
        },
        "id": "Pmei1B6iWcMF",
        "outputId": "56e5993f-e08a-423b-8aa1-6e5aade34d40"
      },
      "execution_count": null,
      "outputs": [
        {
          "output_type": "stream",
          "name": "stdout",
          "text": [
            "[ 0.25+0.j -0.75+0.j  0.25+0.j  0.25+0.j]\n",
            "[[-0.        -0.j -0.        -0.j  1.        +0.j  0.        +0.j]\n",
            " [ 0.70710678-0.j -0.70710678-0.j  0.        +0.j  0.        +0.j]\n",
            " [ 0.70710678+0.j  0.70710678+0.j  0.        +0.j  0.        +0.j]\n",
            " [-0.        -0.j -0.        -0.j  0.        +0.j  1.        +0.j]]\n"
          ]
        }
      ]
    },
    {
      "cell_type": "markdown",
      "source": [
        "spin-3/2 nuclei (I) and spin-1/2 electron (Rubidium 87)\n",
        "spin-5/2 nuclei (I) and spin-1/2 electron (Rubidium 85)\n",
        "spin-7/2 nuclei (I) and spin-1/2 electron (Cesium)"
      ],
      "metadata": {
        "id": "unAWsWNhX5KV"
      }
    },
    {
      "cell_type": "markdown",
      "source": [
        "# Rubidium 87 (3/2, 1/2)\n"
      ],
      "metadata": {
        "id": "jkK0yM6N6uH6"
      }
    },
    {
      "cell_type": "code",
      "source": [
        "# Electron matrices\n",
        "Sz = np.matrix([[1/2, 0], [0, -1/2]])\n",
        "Sx = np.matrix([[0, 1/2], [1/2, 0]])\n",
        "Sy = np.matrix([[0, -1j/2], [1j/2, 0]])\n",
        "\n",
        "# Nuclei matrices (3/2 spin system)\n",
        "basis = np.array([3/2, 1/2, -1/2, -3/2])  # m_I values for 3/2 nuclei\n",
        "\n",
        "# Define step operator\n",
        "def step_operator(m, I, direction='+'):\n",
        "    matrix = np.zeros((4, 4), dtype=complex)  # initialize 4x4 matrix\n",
        "    for i in range(4):\n",
        "        for j in range(4):\n",
        "            if direction == '+' and j == i + 1:  # I+ raises m_I\n",
        "                matrix[i, j] = np.sqrt(I * (I + 1) - m[i] * (m[i] + 1))\n",
        "            elif direction == '-' and j == i - 1:  # I- lowers m_I\n",
        "                matrix[i, j] = np.sqrt(I * (I + 1) - m[i] * (m[i] - 1))\n",
        "    return matrix\n",
        "\n",
        "# Define I+ and I- operators for 3/2 nucleus\n",
        "I_p = step_operator(basis, 3/2, direction='+')\n",
        "I_m = step_operator(basis, 3/2, direction='-')\n",
        "\n",
        "# Define I_x, I_y, and I_z using the step operators\n",
        "I_x = 0.5 * (I_p + I_m)  # I_x = 1/2 * (I+ + I-)\n",
        "I_y = 0.5j * (I_p - I_m)  # I_y = 1/2i * (I+ - I-)\n",
        "I_z = np.diag([3/2, 1/2, -1/2, -3/2])  # I_z is diagonal with m_I values\n",
        "\n",
        "# Check output the nuclei matrices\n",
        "print(\"I_x\")\n",
        "print(I_x)\n",
        "print(\"\\nI_y\")\n",
        "print(I_y)\n",
        "print(\"\\nI_z\")\n",
        "print(I_z)\n",
        "\n",
        "# Kronecker product calculations for an 8x8 basis\n",
        "Sz_2 = np.kron(np.eye(4), Sz)\n",
        "Iz_2 = np.kron(I_z, np.eye(2))  # Correct Iz for a 2-level system\n",
        "Sx_2 = np.kron(np.eye(4), Sx)\n",
        "Ix_2 = np.kron(I_x, np.eye(2))\n",
        "Sy_2 = np.kron(np.eye(4), Sy)\n",
        "Iy_2 = np.kron(I_y, np.eye(2))\n",
        "\n",
        "# Print formatted matrices\n",
        "def print_matrix(title, matrix):\n",
        "    print(f\"\\n{title}\\n{'-' * len(title)}\")\n",
        "    print(matrix)\n",
        "\n",
        "print_matrix(\"IxSx\", Ix_2 * Sx_2)\n",
        "print_matrix(\"IySy\", Iy_2 * Sy_2)\n",
        "print_matrix(\"IzSz\", Iz_2 * Sz_2)\n"
      ],
      "metadata": {
        "colab": {
          "base_uri": "https://localhost:8080/"
        },
        "id": "ksWXAHKt66HE",
        "outputId": "5e28de13-e499-4f17-fe73-5d3cc939ee62"
      },
      "execution_count": null,
      "outputs": [
        {
          "output_type": "stream",
          "name": "stdout",
          "text": [
            "I_x\n",
            "[[0.       +0.j 0.       +0.j 0.       +0.j 0.       +0.j]\n",
            " [1.       +0.j 0.       +0.j 0.8660254+0.j 0.       +0.j]\n",
            " [0.       +0.j 0.8660254+0.j 0.       +0.j 1.       +0.j]\n",
            " [0.       +0.j 0.       +0.j 0.       +0.j 0.       +0.j]]\n",
            "\n",
            "I_y\n",
            "[[ 0.+0.j         0.+0.j         0.+0.j         0.+0.j       ]\n",
            " [-0.-1.j         0.+0.j         0.+0.8660254j  0.+0.j       ]\n",
            " [ 0.+0.j        -0.-0.8660254j  0.+0.j         0.+1.j       ]\n",
            " [ 0.+0.j         0.+0.j         0.+0.j         0.+0.j       ]]\n",
            "\n",
            "I_z\n",
            "[[ 1.5  0.   0.   0. ]\n",
            " [ 0.   0.5  0.   0. ]\n",
            " [ 0.   0.  -0.5  0. ]\n",
            " [ 0.   0.   0.  -1.5]]\n",
            "\n",
            "IxSx\n",
            "----\n",
            "[[0.       +0.j 0.       +0.j 0.       +0.j 0.       +0.j 0.       +0.j\n",
            "  0.       +0.j 0.       +0.j 0.       +0.j]\n",
            " [0.       +0.j 0.       +0.j 0.       +0.j 0.       +0.j 0.       +0.j\n",
            "  0.       +0.j 0.       +0.j 0.       +0.j]\n",
            " [0.       +0.j 0.5      +0.j 0.       +0.j 0.       +0.j 0.       +0.j\n",
            "  0.4330127+0.j 0.       +0.j 0.       +0.j]\n",
            " [0.5      +0.j 0.       +0.j 0.       +0.j 0.       +0.j 0.4330127+0.j\n",
            "  0.       +0.j 0.       +0.j 0.       +0.j]\n",
            " [0.       +0.j 0.       +0.j 0.       +0.j 0.4330127+0.j 0.       +0.j\n",
            "  0.       +0.j 0.       +0.j 0.5      +0.j]\n",
            " [0.       +0.j 0.       +0.j 0.4330127+0.j 0.       +0.j 0.       +0.j\n",
            "  0.       +0.j 0.5      +0.j 0.       +0.j]\n",
            " [0.       +0.j 0.       +0.j 0.       +0.j 0.       +0.j 0.       +0.j\n",
            "  0.       +0.j 0.       +0.j 0.       +0.j]\n",
            " [0.       +0.j 0.       +0.j 0.       +0.j 0.       +0.j 0.       +0.j\n",
            "  0.       +0.j 0.       +0.j 0.       +0.j]]\n",
            "\n",
            "IySy\n",
            "----\n",
            "[[ 0.       +0.j  0.       +0.j  0.       +0.j  0.       +0.j\n",
            "   0.       +0.j  0.       +0.j  0.       +0.j  0.       +0.j]\n",
            " [ 0.       +0.j  0.       +0.j  0.       +0.j  0.       +0.j\n",
            "   0.       +0.j  0.       +0.j  0.       +0.j  0.       +0.j]\n",
            " [ 0.       +0.j -0.5      +0.j  0.       +0.j  0.       +0.j\n",
            "   0.       +0.j  0.4330127+0.j  0.       +0.j  0.       +0.j]\n",
            " [ 0.5      +0.j  0.       +0.j  0.       +0.j  0.       +0.j\n",
            "  -0.4330127+0.j  0.       +0.j  0.       +0.j  0.       +0.j]\n",
            " [ 0.       +0.j  0.       +0.j  0.       +0.j -0.4330127+0.j\n",
            "   0.       +0.j  0.       +0.j  0.       +0.j  0.5      +0.j]\n",
            " [ 0.       +0.j  0.       +0.j  0.4330127+0.j  0.       +0.j\n",
            "   0.       +0.j  0.       +0.j -0.5      +0.j  0.       +0.j]\n",
            " [ 0.       +0.j  0.       +0.j  0.       +0.j  0.       +0.j\n",
            "   0.       +0.j  0.       +0.j  0.       +0.j  0.       +0.j]\n",
            " [ 0.       +0.j  0.       +0.j  0.       +0.j  0.       +0.j\n",
            "   0.       +0.j  0.       +0.j  0.       +0.j  0.       +0.j]]\n",
            "\n",
            "IzSz\n",
            "----\n",
            "[[ 0.75  0.    0.    0.    0.    0.    0.    0.  ]\n",
            " [ 0.   -0.75  0.    0.    0.    0.    0.    0.  ]\n",
            " [ 0.    0.    0.25  0.    0.    0.    0.    0.  ]\n",
            " [ 0.    0.    0.   -0.25  0.    0.    0.    0.  ]\n",
            " [ 0.    0.    0.    0.   -0.25  0.    0.    0.  ]\n",
            " [ 0.    0.    0.    0.    0.    0.25  0.    0.  ]\n",
            " [ 0.    0.    0.    0.    0.    0.   -0.75  0.  ]\n",
            " [ 0.    0.    0.    0.    0.    0.    0.    0.75]]\n"
          ]
        }
      ]
    },
    {
      "cell_type": "markdown",
      "source": [
        "$𝐼⋅𝑆=𝐼𝑥𝑆𝑥+𝐼𝑦𝑆𝑦+𝐼𝑧𝑆𝑧$"
      ],
      "metadata": {
        "id": "wLxVNt5BTZuv"
      }
    },
    {
      "cell_type": "code",
      "source": [
        "IS2 = Ix_2*Sx_2+Iy_2*Sy_2+Iz_2*Sz_2\n",
        "eigenvalues, eigenvectors =np.linalg.eig(IS2)\n",
        "print(eigenvalues)\n",
        "print(eigenvectors)"
      ],
      "metadata": {
        "colab": {
          "base_uri": "https://localhost:8080/"
        },
        "id": "fOkwV8IETxEL",
        "outputId": "2282d26a-c269-4ab1-d81d-f1d898eadced"
      },
      "execution_count": null,
      "outputs": [
        {
          "output_type": "stream",
          "name": "stdout",
          "text": [
            "[ 1.1160254+0.j -0.6160254+0.j -0.25     +0.j  0.75     +0.j\n",
            " -0.75     +0.j -0.25     +0.j -0.75     +0.j  0.75     +0.j]\n",
            "[[-0.        -0.j -0.        -0.j  0.        +0.j  0.70710678+0.j\n",
            "   0.        +0.j  0.        +0.j  0.        +0.j  0.        +0.j]\n",
            " [-0.        -0.j -0.        -0.j  0.        +0.j  0.        +0.j\n",
            "   1.        +0.j  0.        +0.j  0.        +0.j  0.        +0.j]\n",
            " [ 0.70710678-0.j  0.70710678+0.j  0.        +0.j  0.        +0.j\n",
            "   0.        +0.j  0.        +0.j  0.        +0.j  0.        +0.j]\n",
            " [-0.        -0.j -0.        -0.j  1.        +0.j  0.70710678+0.j\n",
            "   0.        +0.j  0.        +0.j  0.        +0.j  0.        +0.j]\n",
            " [-0.        -0.j -0.        -0.j  0.        +0.j  0.        +0.j\n",
            "   0.        +0.j  1.        +0.j  0.        +0.j  0.70710678+0.j]\n",
            " [ 0.70710678+0.j -0.70710678-0.j  0.        +0.j  0.        +0.j\n",
            "   0.        +0.j  0.        +0.j  0.        +0.j  0.        +0.j]\n",
            " [-0.        -0.j -0.        -0.j  0.        +0.j  0.        +0.j\n",
            "   0.        +0.j  0.        +0.j  1.        +0.j  0.        +0.j]\n",
            " [-0.        -0.j -0.        -0.j  0.        +0.j  0.        +0.j\n",
            "   0.        +0.j  0.        +0.j  0.        +0.j  0.70710678+0.j]]\n"
          ]
        }
      ]
    },
    {
      "cell_type": "markdown",
      "source": [
        "# Rubidium 85 (5/2, 1/2)\n",
        "\n",
        "I is nuclear spin angular momentum (5/2)\n",
        "\n",
        "J is electron total angular momentum (1/2)\n",
        "\n",
        "L is electron orbital angular momentum (0)\n",
        "\n",
        "S is electron spin angular momentum (1/2)\n",
        "\n",
        "F = I + J   (Total angular momentum of atomic state)\n",
        "\n",
        "J = L + S    (L = 0 for S_1/2 orbital ground state)"
      ],
      "metadata": {
        "id": "me8IHmgTOnwr"
      }
    },
    {
      "cell_type": "code",
      "source": [
        "# Nuclei matrices (5/2 spin system)\n",
        "basis = np.array([5/2, 3/2, 1/2, -1/2, -3/2, -5/2])  # m_I values for 5/2 nuclei\n",
        "\n",
        "# Define step operator\n",
        "def step_operator(m, I, direction='+'):\n",
        "    matrix = np.zeros((6, 6), dtype=complex)  # initialize 6x6 matrix\n",
        "    for i in range(6):\n",
        "        for j in range(6):\n",
        "            if direction == '+' and j == i + 1:  # I+ raises m_I\n",
        "                matrix[i, j] = np.sqrt(I * (I + 1) - m[i] * (m[i] + 1))\n",
        "            elif direction == '-' and j == i - 1:  # I- lowers m_I\n",
        "                matrix[i, j] = np.sqrt(I * (I + 1) - m[i] * (m[i] - 1))\n",
        "    return matrix\n",
        "\n",
        "# Define I+ and I- operators for 5/2 nucleus\n",
        "I_p = step_operator(basis, 5/2, direction='+')\n",
        "I_m = step_operator(basis, 5/2, direction='-')\n",
        "\n",
        "# Define I_x, I_y, and I_z using the step operators\n",
        "I_x = 0.5 * (I_p + I_m)\n",
        "I_y = 0.5j * (I_p - I_m)\n",
        "I_z = np.diag([5/2, 3/2, 1/2, -1/2, -3/2, -5/2])\n",
        "\n",
        "# Check output the nuclei matrices\n",
        "print(\"I_x\")\n",
        "print(I_x)\n",
        "print(\"\\nI_y\")\n",
        "print(I_y)\n",
        "print(\"\\nI_z\")\n",
        "print(I_z)\n",
        "\n",
        "# Kronecker product calculations for an 8x8 basis\n",
        "Sz_3 = np.kron(np.eye(6), Sz)\n",
        "Iz_3 = np.kron(I_z, np.eye(2))\n",
        "Sx_3 = np.kron(np.eye(6), Sx)\n",
        "Ix_3 = np.kron(I_x, np.eye(2))\n",
        "Sy_3 = np.kron(np.eye(6), Sy)\n",
        "Iy_3 = np.kron(I_y, np.eye(2))\n",
        "\n",
        "# Print formatted matrices\n",
        "def print_matrix(title, matrix):\n",
        "    print(f\"\\n{title}\\n{'-' * len(title)}\")\n",
        "    print(matrix)\n",
        "\n",
        "print_matrix(\"IxSx\", Ix_3 * Sx_3)\n",
        "print_matrix(\"IySy\", Iy_3 * Sy_3)\n",
        "print_matrix(\"IzSz\", Iz_3 * Sz_3)\n"
      ],
      "metadata": {
        "colab": {
          "base_uri": "https://localhost:8080/"
        },
        "id": "kxndna6ZO5e4",
        "outputId": "16819528-b090-4e65-a5d6-436b9984726e"
      },
      "execution_count": null,
      "outputs": [
        {
          "output_type": "stream",
          "name": "stdout",
          "text": [
            "I_x\n",
            "[[0.        +0.j 0.        +0.j 0.        +0.j 0.        +0.j\n",
            "  0.        +0.j 0.        +0.j]\n",
            " [1.41421356+0.j 0.        +0.j 1.11803399+0.j 0.        +0.j\n",
            "  0.        +0.j 0.        +0.j]\n",
            " [0.        +0.j 1.5       +0.j 0.        +0.j 1.41421356+0.j\n",
            "  0.        +0.j 0.        +0.j]\n",
            " [0.        +0.j 0.        +0.j 1.41421356+0.j 0.        +0.j\n",
            "  1.5       +0.j 0.        +0.j]\n",
            " [0.        +0.j 0.        +0.j 0.        +0.j 1.11803399+0.j\n",
            "  0.        +0.j 1.41421356+0.j]\n",
            " [0.        +0.j 0.        +0.j 0.        +0.j 0.        +0.j\n",
            "  0.        +0.j 0.        +0.j]]\n",
            "\n",
            "I_y\n",
            "[[ 0.+0.j          0.+0.j          0.+0.j          0.+0.j\n",
            "   0.+0.j          0.+0.j        ]\n",
            " [-0.-1.41421356j  0.+0.j          0.+1.11803399j  0.+0.j\n",
            "   0.+0.j          0.+0.j        ]\n",
            " [ 0.+0.j         -0.-1.5j         0.+0.j          0.+1.41421356j\n",
            "   0.+0.j          0.+0.j        ]\n",
            " [ 0.+0.j          0.+0.j         -0.-1.41421356j  0.+0.j\n",
            "   0.+1.5j         0.+0.j        ]\n",
            " [ 0.+0.j          0.+0.j          0.+0.j         -0.-1.11803399j\n",
            "   0.+0.j          0.+1.41421356j]\n",
            " [ 0.+0.j          0.+0.j          0.+0.j          0.+0.j\n",
            "   0.+0.j          0.+0.j        ]]\n",
            "\n",
            "I_z\n",
            "[[ 2.5  0.   0.   0.   0.   0. ]\n",
            " [ 0.   1.5  0.   0.   0.   0. ]\n",
            " [ 0.   0.   0.5  0.   0.   0. ]\n",
            " [ 0.   0.   0.  -0.5  0.   0. ]\n",
            " [ 0.   0.   0.   0.  -1.5  0. ]\n",
            " [ 0.   0.   0.   0.   0.  -2.5]]\n",
            "\n",
            "IxSx\n",
            "----\n",
            "[[0.        +0.j 0.        +0.j 0.        +0.j 0.        +0.j\n",
            "  0.        +0.j 0.        +0.j 0.        +0.j 0.        +0.j\n",
            "  0.        +0.j 0.        +0.j 0.        +0.j 0.        +0.j]\n",
            " [0.        +0.j 0.        +0.j 0.        +0.j 0.        +0.j\n",
            "  0.        +0.j 0.        +0.j 0.        +0.j 0.        +0.j\n",
            "  0.        +0.j 0.        +0.j 0.        +0.j 0.        +0.j]\n",
            " [0.        +0.j 0.70710678+0.j 0.        +0.j 0.        +0.j\n",
            "  0.        +0.j 0.55901699+0.j 0.        +0.j 0.        +0.j\n",
            "  0.        +0.j 0.        +0.j 0.        +0.j 0.        +0.j]\n",
            " [0.70710678+0.j 0.        +0.j 0.        +0.j 0.        +0.j\n",
            "  0.55901699+0.j 0.        +0.j 0.        +0.j 0.        +0.j\n",
            "  0.        +0.j 0.        +0.j 0.        +0.j 0.        +0.j]\n",
            " [0.        +0.j 0.        +0.j 0.        +0.j 0.75      +0.j\n",
            "  0.        +0.j 0.        +0.j 0.        +0.j 0.70710678+0.j\n",
            "  0.        +0.j 0.        +0.j 0.        +0.j 0.        +0.j]\n",
            " [0.        +0.j 0.        +0.j 0.75      +0.j 0.        +0.j\n",
            "  0.        +0.j 0.        +0.j 0.70710678+0.j 0.        +0.j\n",
            "  0.        +0.j 0.        +0.j 0.        +0.j 0.        +0.j]\n",
            " [0.        +0.j 0.        +0.j 0.        +0.j 0.        +0.j\n",
            "  0.        +0.j 0.70710678+0.j 0.        +0.j 0.        +0.j\n",
            "  0.        +0.j 0.75      +0.j 0.        +0.j 0.        +0.j]\n",
            " [0.        +0.j 0.        +0.j 0.        +0.j 0.        +0.j\n",
            "  0.70710678+0.j 0.        +0.j 0.        +0.j 0.        +0.j\n",
            "  0.75      +0.j 0.        +0.j 0.        +0.j 0.        +0.j]\n",
            " [0.        +0.j 0.        +0.j 0.        +0.j 0.        +0.j\n",
            "  0.        +0.j 0.        +0.j 0.        +0.j 0.55901699+0.j\n",
            "  0.        +0.j 0.        +0.j 0.        +0.j 0.70710678+0.j]\n",
            " [0.        +0.j 0.        +0.j 0.        +0.j 0.        +0.j\n",
            "  0.        +0.j 0.        +0.j 0.55901699+0.j 0.        +0.j\n",
            "  0.        +0.j 0.        +0.j 0.70710678+0.j 0.        +0.j]\n",
            " [0.        +0.j 0.        +0.j 0.        +0.j 0.        +0.j\n",
            "  0.        +0.j 0.        +0.j 0.        +0.j 0.        +0.j\n",
            "  0.        +0.j 0.        +0.j 0.        +0.j 0.        +0.j]\n",
            " [0.        +0.j 0.        +0.j 0.        +0.j 0.        +0.j\n",
            "  0.        +0.j 0.        +0.j 0.        +0.j 0.        +0.j\n",
            "  0.        +0.j 0.        +0.j 0.        +0.j 0.        +0.j]]\n",
            "\n",
            "IySy\n",
            "----\n",
            "[[ 0.        +0.j  0.        +0.j  0.        +0.j  0.        +0.j\n",
            "   0.        +0.j  0.        +0.j  0.        +0.j  0.        +0.j\n",
            "   0.        +0.j  0.        +0.j  0.        +0.j  0.        +0.j]\n",
            " [ 0.        +0.j  0.        +0.j  0.        +0.j  0.        +0.j\n",
            "   0.        +0.j  0.        +0.j  0.        +0.j  0.        +0.j\n",
            "   0.        +0.j  0.        +0.j  0.        +0.j  0.        +0.j]\n",
            " [ 0.        +0.j -0.70710678+0.j  0.        +0.j  0.        +0.j\n",
            "   0.        +0.j  0.55901699+0.j  0.        +0.j  0.        +0.j\n",
            "   0.        +0.j  0.        +0.j  0.        +0.j  0.        +0.j]\n",
            " [ 0.70710678+0.j  0.        +0.j  0.        +0.j  0.        +0.j\n",
            "  -0.55901699+0.j  0.        +0.j  0.        +0.j  0.        +0.j\n",
            "   0.        +0.j  0.        +0.j  0.        +0.j  0.        +0.j]\n",
            " [ 0.        +0.j  0.        +0.j  0.        +0.j -0.75      +0.j\n",
            "   0.        +0.j  0.        +0.j  0.        +0.j  0.70710678+0.j\n",
            "   0.        +0.j  0.        +0.j  0.        +0.j  0.        +0.j]\n",
            " [ 0.        +0.j  0.        +0.j  0.75      +0.j  0.        +0.j\n",
            "   0.        +0.j  0.        +0.j -0.70710678+0.j  0.        +0.j\n",
            "   0.        +0.j  0.        +0.j  0.        +0.j  0.        +0.j]\n",
            " [ 0.        +0.j  0.        +0.j  0.        +0.j  0.        +0.j\n",
            "   0.        +0.j -0.70710678+0.j  0.        +0.j  0.        +0.j\n",
            "   0.        +0.j  0.75      +0.j  0.        +0.j  0.        +0.j]\n",
            " [ 0.        +0.j  0.        +0.j  0.        +0.j  0.        +0.j\n",
            "   0.70710678+0.j  0.        +0.j  0.        +0.j  0.        +0.j\n",
            "  -0.75      +0.j  0.        +0.j  0.        +0.j  0.        +0.j]\n",
            " [ 0.        +0.j  0.        +0.j  0.        +0.j  0.        +0.j\n",
            "   0.        +0.j  0.        +0.j  0.        +0.j -0.55901699+0.j\n",
            "   0.        +0.j  0.        +0.j  0.        +0.j  0.70710678+0.j]\n",
            " [ 0.        +0.j  0.        +0.j  0.        +0.j  0.        +0.j\n",
            "   0.        +0.j  0.        +0.j  0.55901699+0.j  0.        +0.j\n",
            "   0.        +0.j  0.        +0.j -0.70710678+0.j  0.        +0.j]\n",
            " [ 0.        +0.j  0.        +0.j  0.        +0.j  0.        +0.j\n",
            "   0.        +0.j  0.        +0.j  0.        +0.j  0.        +0.j\n",
            "   0.        +0.j  0.        +0.j  0.        +0.j  0.        +0.j]\n",
            " [ 0.        +0.j  0.        +0.j  0.        +0.j  0.        +0.j\n",
            "   0.        +0.j  0.        +0.j  0.        +0.j  0.        +0.j\n",
            "   0.        +0.j  0.        +0.j  0.        +0.j  0.        +0.j]]\n",
            "\n",
            "IzSz\n",
            "----\n",
            "[[ 1.25  0.    0.    0.    0.    0.    0.    0.    0.    0.    0.    0.  ]\n",
            " [ 0.   -1.25  0.    0.    0.    0.    0.    0.    0.    0.    0.    0.  ]\n",
            " [ 0.    0.    0.75  0.    0.    0.    0.    0.    0.    0.    0.    0.  ]\n",
            " [ 0.    0.    0.   -0.75  0.    0.    0.    0.    0.    0.    0.    0.  ]\n",
            " [ 0.    0.    0.    0.    0.25  0.    0.    0.    0.    0.    0.    0.  ]\n",
            " [ 0.    0.    0.    0.    0.   -0.25  0.    0.    0.    0.    0.    0.  ]\n",
            " [ 0.    0.    0.    0.    0.    0.   -0.25  0.    0.    0.    0.    0.  ]\n",
            " [ 0.    0.    0.    0.    0.    0.    0.    0.25  0.    0.    0.    0.  ]\n",
            " [ 0.    0.    0.    0.    0.    0.    0.    0.   -0.75  0.    0.    0.  ]\n",
            " [ 0.    0.    0.    0.    0.    0.    0.    0.    0.    0.75  0.    0.  ]\n",
            " [ 0.    0.    0.    0.    0.    0.    0.    0.    0.    0.   -1.25  0.  ]\n",
            " [ 0.    0.    0.    0.    0.    0.    0.    0.    0.    0.    0.    1.25]]\n"
          ]
        }
      ]
    },
    {
      "cell_type": "markdown",
      "source": [
        "$𝐼⋅𝑆=𝐼𝑥𝑆𝑥+𝐼𝑦𝑆𝑦+𝐼𝑧𝑆𝑧$"
      ],
      "metadata": {
        "id": "ZsA-6c7mVRHb"
      }
    },
    {
      "cell_type": "code",
      "source": [
        "IS3 = Ix_3*Sx_3+Iy_3*Sy_3+Iz_3*Sz_3\n",
        "eigenvalues, eigenvectors =np.linalg.eig(IS3)\n",
        "print(eigenvalues)\n",
        "print(eigenvectors)"
      ],
      "metadata": {
        "colab": {
          "base_uri": "https://localhost:8080/"
        },
        "id": "DZXtBQLhVEPz",
        "outputId": "a3dc8bce-a21d-473f-e8d5-df13c6e89dae"
      },
      "execution_count": null,
      "outputs": [
        {
          "output_type": "stream",
          "name": "stdout",
          "text": [
            "[ 1.66421356+0.j -1.16421356+0.j  1.63818262+0.j -1.13818262+0.j\n",
            "  1.63818262+0.j -1.13818262+0.j -0.75      +0.j  1.25      +0.j\n",
            " -1.25      +0.j -0.75      +0.j -1.25      +0.j  1.25      +0.j]\n",
            "[[ 0.        +0.j  0.        +0.j -0.        -0.j -0.        -0.j\n",
            "   0.        +0.j -0.        -0.j  0.        +0.j  0.81649658+0.j\n",
            "   0.        +0.j  0.        +0.j  0.        +0.j  0.        +0.j]\n",
            " [ 0.        +0.j  0.        +0.j -0.        -0.j -0.        -0.j\n",
            "   0.        +0.j -0.        -0.j  0.        +0.j  0.        +0.j\n",
            "   1.        +0.j  0.        +0.j  0.        +0.j  0.        +0.j]\n",
            " [ 0.        +0.j  0.        +0.j  0.78299757+0.j -0.50950251-0.j\n",
            "   0.        +0.j -0.        -0.j  0.        +0.j  0.        +0.j\n",
            "   0.        +0.j  0.        +0.j  0.        +0.j  0.        +0.j]\n",
            " [ 0.        +0.j  0.        +0.j -0.        -0.j -0.        -0.j\n",
            "   0.        +0.j -0.        -0.j  1.        +0.j  0.57735027+0.j\n",
            "   0.        +0.j  0.        +0.j  0.        +0.j  0.        +0.j]\n",
            " [ 0.70710678+0.j -0.70710678+0.j -0.        -0.j -0.        -0.j\n",
            "   0.        +0.j -0.        -0.j  0.        +0.j  0.        +0.j\n",
            "   0.        +0.j  0.        +0.j  0.        +0.j  0.        +0.j]\n",
            " [ 0.        +0.j  0.        +0.j  0.62202477-0.j  0.86046917+0.j\n",
            "   0.        +0.j -0.        -0.j  0.        +0.j  0.        +0.j\n",
            "   0.        +0.j  0.        +0.j  0.        +0.j  0.        +0.j]\n",
            " [ 0.        +0.j  0.        +0.j -0.        -0.j -0.        -0.j\n",
            "   0.62202477+0.j  0.86046917+0.j  0.        +0.j  0.        +0.j\n",
            "   0.        +0.j  0.        +0.j  0.        +0.j  0.        +0.j]\n",
            " [ 0.70710678+0.j  0.70710678+0.j -0.        -0.j -0.        -0.j\n",
            "   0.        +0.j -0.        -0.j  0.        +0.j  0.        +0.j\n",
            "   0.        +0.j  0.        +0.j  0.        +0.j  0.        +0.j]\n",
            " [ 0.        +0.j  0.        +0.j -0.        -0.j -0.        -0.j\n",
            "   0.        +0.j -0.        -0.j  0.        +0.j  0.        +0.j\n",
            "   0.        +0.j  1.        +0.j  0.        +0.j  0.57735027+0.j]\n",
            " [ 0.        +0.j  0.        +0.j -0.        -0.j -0.        -0.j\n",
            "   0.78299757+0.j -0.50950251-0.j  0.        +0.j  0.        +0.j\n",
            "   0.        +0.j  0.        +0.j  0.        +0.j  0.        +0.j]\n",
            " [ 0.        +0.j  0.        +0.j -0.        -0.j -0.        -0.j\n",
            "   0.        +0.j -0.        -0.j  0.        +0.j  0.        +0.j\n",
            "   0.        +0.j  0.        +0.j  1.        +0.j  0.        +0.j]\n",
            " [ 0.        +0.j  0.        +0.j -0.        -0.j -0.        -0.j\n",
            "   0.        +0.j -0.        -0.j  0.        +0.j  0.        +0.j\n",
            "   0.        +0.j  0.        +0.j  0.        +0.j  0.81649658+0.j]]\n"
          ]
        }
      ]
    },
    {
      "cell_type": "markdown",
      "source": [
        "# Cesium (7/2, 1/2)"
      ],
      "metadata": {
        "id": "AMiASZwGRrLH"
      }
    },
    {
      "cell_type": "code",
      "source": [
        "# Nuclei matrices (7/2 spin system)\n",
        "basis = np.array([7/2, 5/2, 3/2, 1/2, -1/2, -3/2, -5/2, -7/2])  # m_I values for 7/2 nuclei\n",
        "\n",
        "# Define step operator\n",
        "def step_operator(m, I, direction='+'):\n",
        "    matrix = np.zeros((8, 8), dtype=complex)  # initialize 8x8 matrix\n",
        "    for i in range(8):\n",
        "        for j in range(8):\n",
        "            if direction == '+' and j == i + 1:  # I+ raises m_I\n",
        "                matrix[i, j] = np.sqrt(I * (I + 1) - m[i] * (m[i] + 1))\n",
        "            elif direction == '-' and j == i - 1:  # I- lowers m_I\n",
        "                matrix[i, j] = np.sqrt(I * (I + 1) - m[i] * (m[i] - 1))\n",
        "    return matrix\n",
        "\n",
        "# Define I+ and I- operators for 7/2 nucleus\n",
        "I_p = step_operator(basis, 7/2, direction='+')\n",
        "I_m = step_operator(basis, 7/2, direction='-')\n",
        "\n",
        "# Define I_x, I_y, and I_z using the step operators\n",
        "I_x = 0.5 * (I_p + I_m)\n",
        "I_y = 0.5j * (I_p - I_m)\n",
        "I_z = np.diag([7/2, 5/2, 3/2, 1/2, -1/2, -3/2, -5/2, -7/2])\n",
        "\n",
        "# Check output the nuclei matrices\n",
        "print(\"I_x\")\n",
        "print(I_x)\n",
        "print(\"\\nI_y\")\n",
        "print(I_y)\n",
        "print(\"\\nI_z\")\n",
        "print(I_z)\n",
        "\n",
        "# Kronecker product calculations for an 8x8 basis\n",
        "Sz_4 = np.kron(np.eye(8), Sz)\n",
        "Iz_4 = np.kron(I_z, np.eye(2))\n",
        "Sx_4 = np.kron(np.eye(8), Sx)\n",
        "Ix_4 = np.kron(I_x, np.eye(2))\n",
        "Sy_4 = np.kron(np.eye(8), Sy)\n",
        "Iy_4 = np.kron(I_y, np.eye(2))\n",
        "\n",
        "# Print formatted matrices\n",
        "def print_matrix(title, matrix):\n",
        "    print(f\"\\n{title}\\n{'-' * len(title)}\")\n",
        "    print(matrix)\n",
        "\n",
        "print_matrix(\"IxSx\", Ix_4 * Sx_4)\n",
        "print_matrix(\"IySy\", Iy_4 * Sy_4)\n",
        "print_matrix(\"IzSz\", Iz_4 * Sz_4)\n"
      ],
      "metadata": {
        "colab": {
          "base_uri": "https://localhost:8080/"
        },
        "id": "DZtlaj_gRwnr",
        "outputId": "27177abb-4986-4669-8dee-78b0f55b1ae0"
      },
      "execution_count": null,
      "outputs": [
        {
          "output_type": "stream",
          "name": "stdout",
          "text": [
            "I_x\n",
            "[[0.        +0.j 0.        +0.j 0.        +0.j 0.        +0.j\n",
            "  0.        +0.j 0.        +0.j 0.        +0.j 0.        +0.j]\n",
            " [1.73205081+0.j 0.        +0.j 1.32287566+0.j 0.        +0.j\n",
            "  0.        +0.j 0.        +0.j 0.        +0.j 0.        +0.j]\n",
            " [0.        +0.j 1.93649167+0.j 0.        +0.j 1.73205081+0.j\n",
            "  0.        +0.j 0.        +0.j 0.        +0.j 0.        +0.j]\n",
            " [0.        +0.j 0.        +0.j 2.        +0.j 0.        +0.j\n",
            "  1.93649167+0.j 0.        +0.j 0.        +0.j 0.        +0.j]\n",
            " [0.        +0.j 0.        +0.j 0.        +0.j 1.93649167+0.j\n",
            "  0.        +0.j 2.        +0.j 0.        +0.j 0.        +0.j]\n",
            " [0.        +0.j 0.        +0.j 0.        +0.j 0.        +0.j\n",
            "  1.73205081+0.j 0.        +0.j 1.93649167+0.j 0.        +0.j]\n",
            " [0.        +0.j 0.        +0.j 0.        +0.j 0.        +0.j\n",
            "  0.        +0.j 1.32287566+0.j 0.        +0.j 1.73205081+0.j]\n",
            " [0.        +0.j 0.        +0.j 0.        +0.j 0.        +0.j\n",
            "  0.        +0.j 0.        +0.j 0.        +0.j 0.        +0.j]]\n",
            "\n",
            "I_y\n",
            "[[ 0.+0.j          0.+0.j          0.+0.j          0.+0.j\n",
            "   0.+0.j          0.+0.j          0.+0.j          0.+0.j        ]\n",
            " [-0.-1.73205081j  0.+0.j          0.+1.32287566j  0.+0.j\n",
            "   0.+0.j          0.+0.j          0.+0.j          0.+0.j        ]\n",
            " [ 0.+0.j         -0.-1.93649167j  0.+0.j          0.+1.73205081j\n",
            "   0.+0.j          0.+0.j          0.+0.j          0.+0.j        ]\n",
            " [ 0.+0.j          0.+0.j         -0.-2.j          0.+0.j\n",
            "   0.+1.93649167j  0.+0.j          0.+0.j          0.+0.j        ]\n",
            " [ 0.+0.j          0.+0.j          0.+0.j         -0.-1.93649167j\n",
            "   0.+0.j          0.+2.j          0.+0.j          0.+0.j        ]\n",
            " [ 0.+0.j          0.+0.j          0.+0.j          0.+0.j\n",
            "  -0.-1.73205081j  0.+0.j          0.+1.93649167j  0.+0.j        ]\n",
            " [ 0.+0.j          0.+0.j          0.+0.j          0.+0.j\n",
            "   0.+0.j         -0.-1.32287566j  0.+0.j          0.+1.73205081j]\n",
            " [ 0.+0.j          0.+0.j          0.+0.j          0.+0.j\n",
            "   0.+0.j          0.+0.j          0.+0.j          0.+0.j        ]]\n",
            "\n",
            "I_z\n",
            "[[ 3.5  0.   0.   0.   0.   0.   0.   0. ]\n",
            " [ 0.   2.5  0.   0.   0.   0.   0.   0. ]\n",
            " [ 0.   0.   1.5  0.   0.   0.   0.   0. ]\n",
            " [ 0.   0.   0.   0.5  0.   0.   0.   0. ]\n",
            " [ 0.   0.   0.   0.  -0.5  0.   0.   0. ]\n",
            " [ 0.   0.   0.   0.   0.  -1.5  0.   0. ]\n",
            " [ 0.   0.   0.   0.   0.   0.  -2.5  0. ]\n",
            " [ 0.   0.   0.   0.   0.   0.   0.  -3.5]]\n",
            "\n",
            "IxSx\n",
            "----\n",
            "[[0.        +0.j 0.        +0.j 0.        +0.j 0.        +0.j\n",
            "  0.        +0.j 0.        +0.j 0.        +0.j 0.        +0.j\n",
            "  0.        +0.j 0.        +0.j 0.        +0.j 0.        +0.j\n",
            "  0.        +0.j 0.        +0.j 0.        +0.j 0.        +0.j]\n",
            " [0.        +0.j 0.        +0.j 0.        +0.j 0.        +0.j\n",
            "  0.        +0.j 0.        +0.j 0.        +0.j 0.        +0.j\n",
            "  0.        +0.j 0.        +0.j 0.        +0.j 0.        +0.j\n",
            "  0.        +0.j 0.        +0.j 0.        +0.j 0.        +0.j]\n",
            " [0.        +0.j 0.8660254 +0.j 0.        +0.j 0.        +0.j\n",
            "  0.        +0.j 0.66143783+0.j 0.        +0.j 0.        +0.j\n",
            "  0.        +0.j 0.        +0.j 0.        +0.j 0.        +0.j\n",
            "  0.        +0.j 0.        +0.j 0.        +0.j 0.        +0.j]\n",
            " [0.8660254 +0.j 0.        +0.j 0.        +0.j 0.        +0.j\n",
            "  0.66143783+0.j 0.        +0.j 0.        +0.j 0.        +0.j\n",
            "  0.        +0.j 0.        +0.j 0.        +0.j 0.        +0.j\n",
            "  0.        +0.j 0.        +0.j 0.        +0.j 0.        +0.j]\n",
            " [0.        +0.j 0.        +0.j 0.        +0.j 0.96824584+0.j\n",
            "  0.        +0.j 0.        +0.j 0.        +0.j 0.8660254 +0.j\n",
            "  0.        +0.j 0.        +0.j 0.        +0.j 0.        +0.j\n",
            "  0.        +0.j 0.        +0.j 0.        +0.j 0.        +0.j]\n",
            " [0.        +0.j 0.        +0.j 0.96824584+0.j 0.        +0.j\n",
            "  0.        +0.j 0.        +0.j 0.8660254 +0.j 0.        +0.j\n",
            "  0.        +0.j 0.        +0.j 0.        +0.j 0.        +0.j\n",
            "  0.        +0.j 0.        +0.j 0.        +0.j 0.        +0.j]\n",
            " [0.        +0.j 0.        +0.j 0.        +0.j 0.        +0.j\n",
            "  0.        +0.j 1.        +0.j 0.        +0.j 0.        +0.j\n",
            "  0.        +0.j 0.96824584+0.j 0.        +0.j 0.        +0.j\n",
            "  0.        +0.j 0.        +0.j 0.        +0.j 0.        +0.j]\n",
            " [0.        +0.j 0.        +0.j 0.        +0.j 0.        +0.j\n",
            "  1.        +0.j 0.        +0.j 0.        +0.j 0.        +0.j\n",
            "  0.96824584+0.j 0.        +0.j 0.        +0.j 0.        +0.j\n",
            "  0.        +0.j 0.        +0.j 0.        +0.j 0.        +0.j]\n",
            " [0.        +0.j 0.        +0.j 0.        +0.j 0.        +0.j\n",
            "  0.        +0.j 0.        +0.j 0.        +0.j 0.96824584+0.j\n",
            "  0.        +0.j 0.        +0.j 0.        +0.j 1.        +0.j\n",
            "  0.        +0.j 0.        +0.j 0.        +0.j 0.        +0.j]\n",
            " [0.        +0.j 0.        +0.j 0.        +0.j 0.        +0.j\n",
            "  0.        +0.j 0.        +0.j 0.96824584+0.j 0.        +0.j\n",
            "  0.        +0.j 0.        +0.j 1.        +0.j 0.        +0.j\n",
            "  0.        +0.j 0.        +0.j 0.        +0.j 0.        +0.j]\n",
            " [0.        +0.j 0.        +0.j 0.        +0.j 0.        +0.j\n",
            "  0.        +0.j 0.        +0.j 0.        +0.j 0.        +0.j\n",
            "  0.        +0.j 0.8660254 +0.j 0.        +0.j 0.        +0.j\n",
            "  0.        +0.j 0.96824584+0.j 0.        +0.j 0.        +0.j]\n",
            " [0.        +0.j 0.        +0.j 0.        +0.j 0.        +0.j\n",
            "  0.        +0.j 0.        +0.j 0.        +0.j 0.        +0.j\n",
            "  0.8660254 +0.j 0.        +0.j 0.        +0.j 0.        +0.j\n",
            "  0.96824584+0.j 0.        +0.j 0.        +0.j 0.        +0.j]\n",
            " [0.        +0.j 0.        +0.j 0.        +0.j 0.        +0.j\n",
            "  0.        +0.j 0.        +0.j 0.        +0.j 0.        +0.j\n",
            "  0.        +0.j 0.        +0.j 0.        +0.j 0.66143783+0.j\n",
            "  0.        +0.j 0.        +0.j 0.        +0.j 0.8660254 +0.j]\n",
            " [0.        +0.j 0.        +0.j 0.        +0.j 0.        +0.j\n",
            "  0.        +0.j 0.        +0.j 0.        +0.j 0.        +0.j\n",
            "  0.        +0.j 0.        +0.j 0.66143783+0.j 0.        +0.j\n",
            "  0.        +0.j 0.        +0.j 0.8660254 +0.j 0.        +0.j]\n",
            " [0.        +0.j 0.        +0.j 0.        +0.j 0.        +0.j\n",
            "  0.        +0.j 0.        +0.j 0.        +0.j 0.        +0.j\n",
            "  0.        +0.j 0.        +0.j 0.        +0.j 0.        +0.j\n",
            "  0.        +0.j 0.        +0.j 0.        +0.j 0.        +0.j]\n",
            " [0.        +0.j 0.        +0.j 0.        +0.j 0.        +0.j\n",
            "  0.        +0.j 0.        +0.j 0.        +0.j 0.        +0.j\n",
            "  0.        +0.j 0.        +0.j 0.        +0.j 0.        +0.j\n",
            "  0.        +0.j 0.        +0.j 0.        +0.j 0.        +0.j]]\n",
            "\n",
            "IySy\n",
            "----\n",
            "[[ 0.        +0.j  0.        +0.j  0.        +0.j  0.        +0.j\n",
            "   0.        +0.j  0.        +0.j  0.        +0.j  0.        +0.j\n",
            "   0.        +0.j  0.        +0.j  0.        +0.j  0.        +0.j\n",
            "   0.        +0.j  0.        +0.j  0.        +0.j  0.        +0.j]\n",
            " [ 0.        +0.j  0.        +0.j  0.        +0.j  0.        +0.j\n",
            "   0.        +0.j  0.        +0.j  0.        +0.j  0.        +0.j\n",
            "   0.        +0.j  0.        +0.j  0.        +0.j  0.        +0.j\n",
            "   0.        +0.j  0.        +0.j  0.        +0.j  0.        +0.j]\n",
            " [ 0.        +0.j -0.8660254 +0.j  0.        +0.j  0.        +0.j\n",
            "   0.        +0.j  0.66143783+0.j  0.        +0.j  0.        +0.j\n",
            "   0.        +0.j  0.        +0.j  0.        +0.j  0.        +0.j\n",
            "   0.        +0.j  0.        +0.j  0.        +0.j  0.        +0.j]\n",
            " [ 0.8660254 +0.j  0.        +0.j  0.        +0.j  0.        +0.j\n",
            "  -0.66143783+0.j  0.        +0.j  0.        +0.j  0.        +0.j\n",
            "   0.        +0.j  0.        +0.j  0.        +0.j  0.        +0.j\n",
            "   0.        +0.j  0.        +0.j  0.        +0.j  0.        +0.j]\n",
            " [ 0.        +0.j  0.        +0.j  0.        +0.j -0.96824584+0.j\n",
            "   0.        +0.j  0.        +0.j  0.        +0.j  0.8660254 +0.j\n",
            "   0.        +0.j  0.        +0.j  0.        +0.j  0.        +0.j\n",
            "   0.        +0.j  0.        +0.j  0.        +0.j  0.        +0.j]\n",
            " [ 0.        +0.j  0.        +0.j  0.96824584+0.j  0.        +0.j\n",
            "   0.        +0.j  0.        +0.j -0.8660254 +0.j  0.        +0.j\n",
            "   0.        +0.j  0.        +0.j  0.        +0.j  0.        +0.j\n",
            "   0.        +0.j  0.        +0.j  0.        +0.j  0.        +0.j]\n",
            " [ 0.        +0.j  0.        +0.j  0.        +0.j  0.        +0.j\n",
            "   0.        +0.j -1.        +0.j  0.        +0.j  0.        +0.j\n",
            "   0.        +0.j  0.96824584+0.j  0.        +0.j  0.        +0.j\n",
            "   0.        +0.j  0.        +0.j  0.        +0.j  0.        +0.j]\n",
            " [ 0.        +0.j  0.        +0.j  0.        +0.j  0.        +0.j\n",
            "   1.        +0.j  0.        +0.j  0.        +0.j  0.        +0.j\n",
            "  -0.96824584+0.j  0.        +0.j  0.        +0.j  0.        +0.j\n",
            "   0.        +0.j  0.        +0.j  0.        +0.j  0.        +0.j]\n",
            " [ 0.        +0.j  0.        +0.j  0.        +0.j  0.        +0.j\n",
            "   0.        +0.j  0.        +0.j  0.        +0.j -0.96824584+0.j\n",
            "   0.        +0.j  0.        +0.j  0.        +0.j  1.        +0.j\n",
            "   0.        +0.j  0.        +0.j  0.        +0.j  0.        +0.j]\n",
            " [ 0.        +0.j  0.        +0.j  0.        +0.j  0.        +0.j\n",
            "   0.        +0.j  0.        +0.j  0.96824584+0.j  0.        +0.j\n",
            "   0.        +0.j  0.        +0.j -1.        +0.j  0.        +0.j\n",
            "   0.        +0.j  0.        +0.j  0.        +0.j  0.        +0.j]\n",
            " [ 0.        +0.j  0.        +0.j  0.        +0.j  0.        +0.j\n",
            "   0.        +0.j  0.        +0.j  0.        +0.j  0.        +0.j\n",
            "   0.        +0.j -0.8660254 +0.j  0.        +0.j  0.        +0.j\n",
            "   0.        +0.j  0.96824584+0.j  0.        +0.j  0.        +0.j]\n",
            " [ 0.        +0.j  0.        +0.j  0.        +0.j  0.        +0.j\n",
            "   0.        +0.j  0.        +0.j  0.        +0.j  0.        +0.j\n",
            "   0.8660254 +0.j  0.        +0.j  0.        +0.j  0.        +0.j\n",
            "  -0.96824584+0.j  0.        +0.j  0.        +0.j  0.        +0.j]\n",
            " [ 0.        +0.j  0.        +0.j  0.        +0.j  0.        +0.j\n",
            "   0.        +0.j  0.        +0.j  0.        +0.j  0.        +0.j\n",
            "   0.        +0.j  0.        +0.j  0.        +0.j -0.66143783+0.j\n",
            "   0.        +0.j  0.        +0.j  0.        +0.j  0.8660254 +0.j]\n",
            " [ 0.        +0.j  0.        +0.j  0.        +0.j  0.        +0.j\n",
            "   0.        +0.j  0.        +0.j  0.        +0.j  0.        +0.j\n",
            "   0.        +0.j  0.        +0.j  0.66143783+0.j  0.        +0.j\n",
            "   0.        +0.j  0.        +0.j -0.8660254 +0.j  0.        +0.j]\n",
            " [ 0.        +0.j  0.        +0.j  0.        +0.j  0.        +0.j\n",
            "   0.        +0.j  0.        +0.j  0.        +0.j  0.        +0.j\n",
            "   0.        +0.j  0.        +0.j  0.        +0.j  0.        +0.j\n",
            "   0.        +0.j  0.        +0.j  0.        +0.j  0.        +0.j]\n",
            " [ 0.        +0.j  0.        +0.j  0.        +0.j  0.        +0.j\n",
            "   0.        +0.j  0.        +0.j  0.        +0.j  0.        +0.j\n",
            "   0.        +0.j  0.        +0.j  0.        +0.j  0.        +0.j\n",
            "   0.        +0.j  0.        +0.j  0.        +0.j  0.        +0.j]]\n",
            "\n",
            "IzSz\n",
            "----\n",
            "[[ 1.75  0.    0.    0.    0.    0.    0.    0.    0.    0.    0.    0.\n",
            "   0.    0.    0.    0.  ]\n",
            " [ 0.   -1.75  0.    0.    0.    0.    0.    0.    0.    0.    0.    0.\n",
            "   0.    0.    0.    0.  ]\n",
            " [ 0.    0.    1.25  0.    0.    0.    0.    0.    0.    0.    0.    0.\n",
            "   0.    0.    0.    0.  ]\n",
            " [ 0.    0.    0.   -1.25  0.    0.    0.    0.    0.    0.    0.    0.\n",
            "   0.    0.    0.    0.  ]\n",
            " [ 0.    0.    0.    0.    0.75  0.    0.    0.    0.    0.    0.    0.\n",
            "   0.    0.    0.    0.  ]\n",
            " [ 0.    0.    0.    0.    0.   -0.75  0.    0.    0.    0.    0.    0.\n",
            "   0.    0.    0.    0.  ]\n",
            " [ 0.    0.    0.    0.    0.    0.    0.25  0.    0.    0.    0.    0.\n",
            "   0.    0.    0.    0.  ]\n",
            " [ 0.    0.    0.    0.    0.    0.    0.   -0.25  0.    0.    0.    0.\n",
            "   0.    0.    0.    0.  ]\n",
            " [ 0.    0.    0.    0.    0.    0.    0.    0.   -0.25  0.    0.    0.\n",
            "   0.    0.    0.    0.  ]\n",
            " [ 0.    0.    0.    0.    0.    0.    0.    0.    0.    0.25  0.    0.\n",
            "   0.    0.    0.    0.  ]\n",
            " [ 0.    0.    0.    0.    0.    0.    0.    0.    0.    0.   -0.75  0.\n",
            "   0.    0.    0.    0.  ]\n",
            " [ 0.    0.    0.    0.    0.    0.    0.    0.    0.    0.    0.    0.75\n",
            "   0.    0.    0.    0.  ]\n",
            " [ 0.    0.    0.    0.    0.    0.    0.    0.    0.    0.    0.    0.\n",
            "  -1.25  0.    0.    0.  ]\n",
            " [ 0.    0.    0.    0.    0.    0.    0.    0.    0.    0.    0.    0.\n",
            "   0.    1.25  0.    0.  ]\n",
            " [ 0.    0.    0.    0.    0.    0.    0.    0.    0.    0.    0.    0.\n",
            "   0.    0.   -1.75  0.  ]\n",
            " [ 0.    0.    0.    0.    0.    0.    0.    0.    0.    0.    0.    0.\n",
            "   0.    0.    0.    1.75]]\n"
          ]
        }
      ]
    },
    {
      "cell_type": "markdown",
      "source": [
        "$𝐼⋅𝑆=𝐼𝑥𝑆𝑥+𝐼𝑦𝑆𝑦+𝐼𝑧𝑆𝑧$"
      ],
      "metadata": {
        "id": "_k3umSOcVq1v"
      }
    },
    {
      "cell_type": "code",
      "source": [
        "IS4 = Ix_4*Sx_4+Iy_4*Sy_4+Iz_4*Sz_4\n",
        "eigenvalues, eigenvectors =np.linalg.eig(IS4)\n",
        "print(eigenvalues)\n",
        "print(eigenvectors)"
      ],
      "metadata": {
        "colab": {
          "base_uri": "https://localhost:8080/"
        },
        "id": "qKINj6O-VtOp",
        "outputId": "ba0291b7-cdf7-4548-9193-2dc5b46d3972"
      },
      "execution_count": null,
      "outputs": [
        {
          "output_type": "stream",
          "name": "stdout",
          "text": [
            "[ 2.17720046+0.j -1.67720046+0.j  2.13725666+0.j -1.63725666+0.j\n",
            " -1.63725666+0.j  2.13725666+0.j  2.18649167+0.j -1.68649167+0.j\n",
            " -1.67720046+0.j  2.17720046+0.j -1.25      +0.j  1.75      +0.j\n",
            " -1.75      +0.j -1.25      +0.j -1.75      +0.j  1.75      +0.j]\n",
            "[[-0.00000000e+00-0.j -0.00000000e+00-0.j -0.00000000e+00-0.j\n",
            "  -0.00000000e+00-0.j -0.00000000e+00-0.j -0.00000000e+00-0.j\n",
            "  -0.00000000e+00-0.j  0.00000000e+00+0.j  0.00000000e+00+0.j\n",
            "  -0.00000000e+00-0.j  0.00000000e+00+0.j  8.66025404e-01+0.j\n",
            "   0.00000000e+00+0.j  0.00000000e+00+0.j  0.00000000e+00+0.j\n",
            "   0.00000000e+00+0.j]\n",
            " [-0.00000000e+00-0.j -0.00000000e+00-0.j -0.00000000e+00-0.j\n",
            "  -0.00000000e+00-0.j -0.00000000e+00-0.j -0.00000000e+00-0.j\n",
            "  -0.00000000e+00-0.j  0.00000000e+00+0.j  0.00000000e+00+0.j\n",
            "  -0.00000000e+00-0.j  0.00000000e+00+0.j  0.00000000e+00+0.j\n",
            "   1.00000000e+00+0.j  0.00000000e+00+0.j  0.00000000e+00+0.j\n",
            "   0.00000000e+00+0.j]\n",
            " [-0.00000000e+00-0.j -0.00000000e+00-0.j  8.30499904e-01+0.j\n",
            "  -4.16537531e-01-0.j -3.07438073e-01-0.j  2.88267129e-01-0.j\n",
            "  -0.00000000e+00-0.j  0.00000000e+00+0.j  0.00000000e+00+0.j\n",
            "  -0.00000000e+00-0.j  0.00000000e+00+0.j  0.00000000e+00+0.j\n",
            "   0.00000000e+00+0.j  0.00000000e+00+0.j  0.00000000e+00+0.j\n",
            "   0.00000000e+00+0.j]\n",
            " [-0.00000000e+00-0.j -0.00000000e+00-0.j -0.00000000e+00-0.j\n",
            "  -0.00000000e+00-0.j -0.00000000e+00-0.j -0.00000000e+00-0.j\n",
            "  -0.00000000e+00-0.j  0.00000000e+00+0.j  0.00000000e+00+0.j\n",
            "  -0.00000000e+00-0.j  1.00000000e+00+0.j  5.00000000e-01+0.j\n",
            "   0.00000000e+00+0.j  0.00000000e+00+0.j  0.00000000e+00+0.j\n",
            "   0.00000000e+00+0.j]\n",
            " [-0.00000000e+00-0.j -0.00000000e+00-0.j -0.00000000e+00-0.j\n",
            "  -0.00000000e+00-0.j -0.00000000e+00-0.j -0.00000000e+00-0.j\n",
            "  -0.00000000e+00-0.j  0.00000000e+00+0.j -5.80868659e-01+0.j\n",
            "   7.71754043e-01+0.j  0.00000000e+00+0.j  0.00000000e+00+0.j\n",
            "   0.00000000e+00+0.j  0.00000000e+00+0.j  0.00000000e+00+0.j\n",
            "   0.00000000e+00+0.j]\n",
            " [-0.00000000e+00-0.j -0.00000000e+00-0.j  5.57018769e-01-0.j\n",
            "   9.09118521e-01+0.j  6.71002312e-01+0.j  1.93341625e-01-0.j\n",
            "  -0.00000000e+00-0.j  0.00000000e+00+0.j  0.00000000e+00+0.j\n",
            "  -0.00000000e+00-0.j  0.00000000e+00+0.j  0.00000000e+00+0.j\n",
            "   0.00000000e+00+0.j  0.00000000e+00+0.j  0.00000000e+00+0.j\n",
            "   0.00000000e+00+0.j]\n",
            " [-0.00000000e+00-0.j -0.00000000e+00-0.j -0.00000000e+00-0.j\n",
            "  -0.00000000e+00-0.j -0.00000000e+00-0.j -0.00000000e+00-0.j\n",
            "   7.07106781e-01+0.j  7.07106781e-01+0.j -1.81876603e-14+0.j\n",
            "   1.61130424e-14-0.j  0.00000000e+00+0.j  0.00000000e+00+0.j\n",
            "   0.00000000e+00+0.j  0.00000000e+00+0.j  0.00000000e+00+0.j\n",
            "   0.00000000e+00+0.j]\n",
            " [-0.00000000e+00-0.j -0.00000000e+00-0.j -0.00000000e+00-0.j\n",
            "  -0.00000000e+00-0.j -0.00000000e+00-0.j -0.00000000e+00-0.j\n",
            "  -0.00000000e+00-0.j  0.00000000e+00+0.j  8.13997298e-01+0.j\n",
            "   6.35921141e-01-0.j  0.00000000e+00+0.j  0.00000000e+00+0.j\n",
            "   0.00000000e+00+0.j  0.00000000e+00+0.j  0.00000000e+00+0.j\n",
            "   0.00000000e+00+0.j]\n",
            " [ 6.35921141e-01-0.j  8.13997298e-01+0.j -0.00000000e+00-0.j\n",
            "  -0.00000000e+00-0.j -0.00000000e+00-0.j -0.00000000e+00-0.j\n",
            "  -0.00000000e+00-0.j  0.00000000e+00+0.j  0.00000000e+00+0.j\n",
            "  -0.00000000e+00-0.j  0.00000000e+00+0.j  0.00000000e+00+0.j\n",
            "   0.00000000e+00+0.j  0.00000000e+00+0.j  0.00000000e+00+0.j\n",
            "   0.00000000e+00+0.j]\n",
            " [-0.00000000e+00-0.j -0.00000000e+00-0.j -0.00000000e+00-0.j\n",
            "  -0.00000000e+00-0.j -0.00000000e+00-0.j -0.00000000e+00-0.j\n",
            "   7.07106781e-01-0.j -7.07106781e-01+0.j  1.81063242e-14+0.j\n",
            "   1.60403635e-14-0.j  0.00000000e+00+0.j  0.00000000e+00+0.j\n",
            "   0.00000000e+00+0.j  0.00000000e+00+0.j  0.00000000e+00+0.j\n",
            "   0.00000000e+00+0.j]\n",
            " [-0.00000000e+00-0.j -0.00000000e+00-0.j -0.00000000e+00-0.j\n",
            "  -0.00000000e+00-0.j -6.13394149e-01-0.j  5.22387715e-01-0.j\n",
            "  -0.00000000e+00-0.j  0.00000000e+00+0.j  0.00000000e+00+0.j\n",
            "  -0.00000000e+00-0.j  0.00000000e+00+0.j  0.00000000e+00+0.j\n",
            "   0.00000000e+00+0.j  0.00000000e+00+0.j  0.00000000e+00+0.j\n",
            "   0.00000000e+00+0.j]\n",
            " [ 7.71754043e-01+0.j -5.80868659e-01-0.j -0.00000000e+00-0.j\n",
            "  -0.00000000e+00-0.j -0.00000000e+00-0.j -0.00000000e+00-0.j\n",
            "  -0.00000000e+00-0.j  0.00000000e+00+0.j  0.00000000e+00+0.j\n",
            "  -0.00000000e+00-0.j  0.00000000e+00+0.j  0.00000000e+00+0.j\n",
            "   0.00000000e+00+0.j  0.00000000e+00+0.j  0.00000000e+00+0.j\n",
            "   0.00000000e+00+0.j]\n",
            " [-0.00000000e+00-0.j -0.00000000e+00-0.j -0.00000000e+00-0.j\n",
            "  -0.00000000e+00-0.j -0.00000000e+00-0.j -0.00000000e+00-0.j\n",
            "  -0.00000000e+00-0.j  0.00000000e+00+0.j  0.00000000e+00+0.j\n",
            "  -0.00000000e+00-0.j  0.00000000e+00+0.j  0.00000000e+00+0.j\n",
            "   0.00000000e+00+0.j  1.00000000e+00+0.j  0.00000000e+00+0.j\n",
            "   5.00000000e-01+0.j]\n",
            " [-0.00000000e+00-0.j -0.00000000e+00-0.j -0.00000000e+00-0.j\n",
            "  -0.00000000e+00-0.j  2.81043317e-01-0.j  7.78865941e-01+0.j\n",
            "  -0.00000000e+00-0.j  0.00000000e+00+0.j  0.00000000e+00+0.j\n",
            "  -0.00000000e+00-0.j  0.00000000e+00+0.j  0.00000000e+00+0.j\n",
            "   0.00000000e+00+0.j  0.00000000e+00+0.j  0.00000000e+00+0.j\n",
            "   0.00000000e+00+0.j]\n",
            " [-0.00000000e+00-0.j -0.00000000e+00-0.j -0.00000000e+00-0.j\n",
            "  -0.00000000e+00-0.j -0.00000000e+00-0.j -0.00000000e+00-0.j\n",
            "  -0.00000000e+00-0.j  0.00000000e+00+0.j  0.00000000e+00+0.j\n",
            "  -0.00000000e+00-0.j  0.00000000e+00+0.j  0.00000000e+00+0.j\n",
            "   0.00000000e+00+0.j  0.00000000e+00+0.j  1.00000000e+00+0.j\n",
            "   0.00000000e+00+0.j]\n",
            " [-0.00000000e+00-0.j -0.00000000e+00-0.j -0.00000000e+00-0.j\n",
            "  -0.00000000e+00-0.j -0.00000000e+00-0.j -0.00000000e+00-0.j\n",
            "  -0.00000000e+00-0.j  0.00000000e+00+0.j  0.00000000e+00+0.j\n",
            "  -0.00000000e+00-0.j  0.00000000e+00+0.j  0.00000000e+00+0.j\n",
            "   0.00000000e+00+0.j  0.00000000e+00+0.j  0.00000000e+00+0.j\n",
            "   8.66025404e-01+0.j]]\n"
          ]
        }
      ]
    }
  ]
}